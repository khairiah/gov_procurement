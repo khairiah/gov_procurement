{
 "cells": [
  {
   "cell_type": "code",
   "execution_count": 9,
   "id": "b6a986b9-4f3c-45f6-94d5-e77adbc6a908",
   "metadata": {},
   "outputs": [],
   "source": [
    "import pandas as pd"
   ]
  },
  {
   "cell_type": "code",
   "execution_count": 10,
   "id": "ad8998a3-22a4-4b07-8b28-ea54a0a7fd0f",
   "metadata": {},
   "outputs": [],
   "source": [
    "from datetime import datetime"
   ]
  },
  {
   "cell_type": "markdown",
   "id": "0d67e130-0a68-41d7-b023-0f28048d68e2",
   "metadata": {},
   "source": [
    "# Load"
   ]
  },
  {
   "cell_type": "code",
   "execution_count": 12,
   "id": "41e10d55-398a-4da7-a499-3fb1e5728528",
   "metadata": {},
   "outputs": [],
   "source": [
    "# Load raw dataset\n",
    "df = pd.read_csv('datasets/GovernmentProcurementviaGeBIZ.csv')"
   ]
  },
  {
   "cell_type": "code",
   "execution_count": 13,
   "id": "4f1bbdd6-363d-48f4-9b1d-5102ff94ad1a",
   "metadata": {},
   "outputs": [
    {
     "data": {
      "text/plain": [
       "(18021, 7)"
      ]
     },
     "execution_count": 13,
     "metadata": {},
     "output_type": "execute_result"
    }
   ],
   "source": [
    "df.shape #how big the dataset is - 18021 rows, 7 columns"
   ]
  },
  {
   "cell_type": "code",
   "execution_count": 14,
   "id": "fb7f4d39-81ac-43fc-bf7d-92d84cb23f95",
   "metadata": {},
   "outputs": [
    {
     "name": "stdout",
     "output_type": "stream",
     "text": [
      "<class 'pandas.core.frame.DataFrame'>\n",
      "RangeIndex: 18021 entries, 0 to 18020\n",
      "Data columns (total 7 columns):\n",
      " #   Column                Non-Null Count  Dtype  \n",
      "---  ------                --------------  -----  \n",
      " 0   tender_no             18021 non-null  object \n",
      " 1   tender_description    18021 non-null  object \n",
      " 2   agency                18021 non-null  object \n",
      " 3   award_date            18021 non-null  object \n",
      " 4   tender_detail_status  18021 non-null  object \n",
      " 5   supplier_name         18021 non-null  object \n",
      " 6   awarded_amt           18021 non-null  float64\n",
      "dtypes: float64(1), object(6)\n",
      "memory usage: 985.7+ KB\n"
     ]
    }
   ],
   "source": [
    "df.info() # get summary of DataFrame, including data types. alternative way: using `df.dtypes` "
   ]
  },
  {
   "cell_type": "code",
   "execution_count": 15,
   "id": "5446995f-95c5-4d39-9f77-aae98e4682b7",
   "metadata": {},
   "outputs": [
    {
     "data": {
      "text/html": [
       "<div>\n",
       "<style scoped>\n",
       "    .dataframe tbody tr th:only-of-type {\n",
       "        vertical-align: middle;\n",
       "    }\n",
       "\n",
       "    .dataframe tbody tr th {\n",
       "        vertical-align: top;\n",
       "    }\n",
       "\n",
       "    .dataframe thead th {\n",
       "        text-align: right;\n",
       "    }\n",
       "</style>\n",
       "<table border=\"1\" class=\"dataframe\">\n",
       "  <thead>\n",
       "    <tr style=\"text-align: right;\">\n",
       "      <th></th>\n",
       "      <th>tender_no</th>\n",
       "      <th>tender_description</th>\n",
       "      <th>agency</th>\n",
       "      <th>award_date</th>\n",
       "      <th>tender_detail_status</th>\n",
       "      <th>supplier_name</th>\n",
       "      <th>awarded_amt</th>\n",
       "    </tr>\n",
       "  </thead>\n",
       "  <tbody>\n",
       "    <tr>\n",
       "      <th>0</th>\n",
       "      <td>ACR000ETT20300002</td>\n",
       "      <td>INVITATION TO TENDER FOR THE PROVISION OF SERV...</td>\n",
       "      <td>Accounting And Corporate Regulatory Authority</td>\n",
       "      <td>10/11/2020</td>\n",
       "      <td>Awarded by Items</td>\n",
       "      <td>DELOITTE &amp; TOUCHE ENTERPRISE RISK SERVICES PTE...</td>\n",
       "      <td>285000.0</td>\n",
       "    </tr>\n",
       "    <tr>\n",
       "      <th>1</th>\n",
       "      <td>ACR000ETT20300002</td>\n",
       "      <td>INVITATION TO TENDER FOR THE PROVISION OF SERV...</td>\n",
       "      <td>Accounting And Corporate Regulatory Authority</td>\n",
       "      <td>10/11/2020</td>\n",
       "      <td>Awarded by Items</td>\n",
       "      <td>KPMG SERVICES PTE. LTD.</td>\n",
       "      <td>90000.0</td>\n",
       "    </tr>\n",
       "    <tr>\n",
       "      <th>2</th>\n",
       "      <td>ACR000ETT20300003</td>\n",
       "      <td>PROVISION OF AN IT SECURITY CONTROLS AND OPERA...</td>\n",
       "      <td>Accounting And Corporate Regulatory Authority</td>\n",
       "      <td>9/12/2020</td>\n",
       "      <td>Awarded to Suppliers</td>\n",
       "      <td>ERNST &amp; YOUNG ADVISORY PTE. LTD.</td>\n",
       "      <td>182400.0</td>\n",
       "    </tr>\n",
       "  </tbody>\n",
       "</table>\n",
       "</div>"
      ],
      "text/plain": [
       "           tender_no                                 tender_description  \\\n",
       "0  ACR000ETT20300002  INVITATION TO TENDER FOR THE PROVISION OF SERV...   \n",
       "1  ACR000ETT20300002  INVITATION TO TENDER FOR THE PROVISION OF SERV...   \n",
       "2  ACR000ETT20300003  PROVISION OF AN IT SECURITY CONTROLS AND OPERA...   \n",
       "\n",
       "                                          agency  award_date  \\\n",
       "0  Accounting And Corporate Regulatory Authority  10/11/2020   \n",
       "1  Accounting And Corporate Regulatory Authority  10/11/2020   \n",
       "2  Accounting And Corporate Regulatory Authority   9/12/2020   \n",
       "\n",
       "   tender_detail_status                                      supplier_name  \\\n",
       "0      Awarded by Items  DELOITTE & TOUCHE ENTERPRISE RISK SERVICES PTE...   \n",
       "1      Awarded by Items                            KPMG SERVICES PTE. LTD.   \n",
       "2  Awarded to Suppliers                   ERNST & YOUNG ADVISORY PTE. LTD.   \n",
       "\n",
       "   awarded_amt  \n",
       "0     285000.0  \n",
       "1      90000.0  \n",
       "2     182400.0  "
      ]
     },
     "execution_count": 15,
     "metadata": {},
     "output_type": "execute_result"
    }
   ],
   "source": [
    "df.head(3) #first 3 rows"
   ]
  },
  {
   "cell_type": "markdown",
   "id": "918f35d5-532f-4ac2-94b8-f76242606a03",
   "metadata": {},
   "source": [
    "# Transform"
   ]
  },
  {
   "cell_type": "code",
   "execution_count": 16,
   "id": "b52e7857-4475-487f-8e6f-1acf23dfd096",
   "metadata": {},
   "outputs": [
    {
     "name": "stdout",
     "output_type": "stream",
     "text": [
      "Checking for null values before cleaning:\n",
      " tender_no               0\n",
      "tender_description      0\n",
      "agency                  0\n",
      "award_date              0\n",
      "tender_detail_status    0\n",
      "supplier_name           0\n",
      "awarded_amt             0\n",
      "dtype: int64\n"
     ]
    }
   ],
   "source": [
    "# catch if the file already has missing values before any transformations\n",
    "print(\"Checking for null values before cleaning:\\n\", df.isna().sum())"
   ]
  },
  {
   "cell_type": "markdown",
   "id": "9f84ba1a-8c27-40ae-b50d-0fca8d348660",
   "metadata": {},
   "source": [
    "## 1) `tender_no` column"
   ]
  },
  {
   "cell_type": "markdown",
   "id": "5e7c2507-7190-446b-9567-7c3a91b217f0",
   "metadata": {},
   "source": [
    "- Alphanumeric ID\n",
    "- `tender_no` is NOT UNIQUE. Same tenders shows up on multiple rows as a tender may be split across **multiple** suppliers. \n",
    "- A tender amy also have multiple line items (e.g. laptops, printers, services). \n",
    "- A tender may even have some items awarded or not. There's one tender with `FINVITETT20300009` tendor ID  which appears 131 times in the dataset.\n",
    "- Transformation(s)\n",
    "    - Strip whitespace"
   ]
  },
  {
   "cell_type": "code",
   "execution_count": 17,
   "id": "cb16d4a2-83d7-412a-a555-db06ecf57188",
   "metadata": {},
   "outputs": [],
   "source": [
    "df['tender_no'] = df['tender_no'].str.strip() #strip whitespace "
   ]
  },
  {
   "cell_type": "code",
   "execution_count": 18,
   "id": "40411b7c-e949-4668-9070-1b2e849b0f70",
   "metadata": {},
   "outputs": [
    {
     "name": "stdout",
     "output_type": "stream",
     "text": [
      "11915\n"
     ]
    }
   ],
   "source": [
    "# tender IDs are not unique. Use .nunique() to tell us how many UNIQUE tender IDs there are over the past years. ERROR\n",
    "print(df['tender_no'].nunique())   # ✅ 11915"
   ]
  },
  {
   "cell_type": "markdown",
   "id": "34977cf6-c8fd-4810-bca9-416a25d4ba98",
   "metadata": {},
   "source": [
    "## 2) `tender_description`"
   ]
  },
  {
   "cell_type": "markdown",
   "id": "23f839ff-a130-41c2-9bea-10b6cc7c46e3",
   "metadata": {},
   "source": [
    "- Long-text with varied casing (e.g. some descriptions are in ALL CAPS while some are Mixed Case)\n",
    "- Transformation(s)\n",
    "    - Strip whitespace\n",
    "    - Convert to lowercase (for future enhancements - text classification) "
   ]
  },
  {
   "cell_type": "code",
   "execution_count": 19,
   "id": "25ad1430-5cb9-4ba0-b3eb-c309e432d933",
   "metadata": {},
   "outputs": [
    {
     "name": "stdout",
     "output_type": "stream",
     "text": [
      "Sample tender_description:\n",
      " 0     invitation to tender for the provision of serv...\n",
      "1     invitation to tender for the provision of serv...\n",
      "2     provision of an it security controls and opera...\n",
      "3     conceptualization, design, build, set-up of ne...\n",
      "4     design, development, customization, delivery, ...\n",
      "5     supply, delivery, installation, testing, commi...\n",
      "6     invitation to tender for the application softw...\n",
      "7     for provision of the application software main...\n",
      "8     invitation to tender for the provision of the ...\n",
      "9     invitation to tender for the provision of serv...\n",
      "10    invitation to tender for the provision of serv...\n",
      "11    supply, delivery, support of database activity...\n",
      "12    development of the bodies of knowledge (boks) ...\n",
      "13    invitation to tender for the provision of chan...\n",
      "14    invitation to tender for the provision of chan...\n",
      "15    invitation to tender for the provision of chan...\n",
      "16    itt for the provisioning and maintenance of an...\n",
      "17    itt for the provision of design and delivery s...\n",
      "18    invitation to tender for the provision of:   (...\n",
      "19    invitation to tender for the provision of:   (...\n",
      "Name: tender_description_clean, dtype: object\n"
     ]
    }
   ],
   "source": [
    "df['tender_description_clean'] = df['tender_description'].str.strip().str.lower()\n",
    "print(\"Sample tender_description:\\n\", df['tender_description_clean'].head(20))"
   ]
  },
  {
   "cell_type": "markdown",
   "id": "28374f8e-03c5-411c-ad96-4d95d39e0b6d",
   "metadata": {},
   "source": [
    "## 3) `agency`"
   ]
  },
  {
   "cell_type": "markdown",
   "id": "59bc0a1b-1ba9-49bb-9908-5acad3fce02b",
   "metadata": {},
   "source": [
    "- Values are mixed casing but consistent. E.g. `Ministry of Education`, `Attorney-General's Chambers`.\n",
    "    - Did not convert to uppercase as you'll lose readability. \n",
    "- For easier querying in DB by analysts, map it to a controlled vocabulary of \"shortform\" names for respective agencies. E.g. `Ministry of Education` -> `MOE`\n",
    "- **Transformation(s)**\n",
    "    - Trim whitespace, keep title case\n",
    "    - **Challenges:**\n",
    "        - Singapore has dozens of staturatory boards, ministries, councils, etc.\n",
    "            - Core Ministries (MOE, MOH, MINDEF, etc)\n",
    "            - Statutory Boards (ACRA, BCA, LTD, HDB, etc)\n",
    "        - Formatting differences: `Ministry of Education - Schools` vs `Ministry of Education`, `Supreme Court - State Courts` vs `Supreme Court of Singapore`\n",
    "        - Some procuring entity is often listed as the sub-unit of a ministry. E.g. Instead of `Ministry of Education`, tender listed as `Temasek Polytechnic`. This means schools (or even polytechnics, junior colleges, statutory boards) procure directly, but they are still under MOE's umbrella. So the `agency` column is not just ministries/stat boards — it sometimes includes schools, IHLs, or specific institutions.\n",
    "        - Options\n",
    "            - **1) Leave as-is**\n",
    "                - Pros: Preserves raw truth, most accurate\n",
    "                - Cons: Have 100s of unique agencies (MOE schools, hospitals, etc) making aggregation harder for analysts down the ro\n",
    "            - **2) Group under parent agency**\n",
    "                - E.g. Map all schools/tertiary education back to \"Ministry of Education\". Map all hospitals to \"Ministry of Health\"\n",
    "                - Pros:\n",
    "                    - Cleaner analysis at ministry/stat board level\n",
    "                - Cons:\n",
    "                    - Lose granularity (can't see which specific school procured)\n",
    "            - **Decision**\n",
    "                - Keep raw `agency` column untouched to avoid losing details\n",
    "                - Create dictionary of known/official stat boards & ministry names.\n",
    "                    - Cons: Does not handle sub-departments or variations. E.g. Ministry of Finance - Vital vs Ministry of Finance\n",
    "                - Rule-based mapping.\n",
    "                    - Pros\n",
    "                        - Easy to extend. Just add another keyword rule when a new type shows up.\n",
    "                        - Reduces maintenance costs (no need to update dictionary every time)\n",
    "                    - Cons\n",
    "                        - Slight risk of false positives if a keyword matches unintended strings\n",
    "                - Create column `agency_parent` for roll-ups.\n",
    "                    - Schools -> `MOE`\n",
    "                    - Hospitals -> `MOH`\n",
    "                    - Anything with no clear acronym or misc entities like `Istana`, leave as-is (full name)\n",
    "                - This way, queries in DB can work at either:\n",
    "                    - granular level (school-level spend). E.g. \"Which school procured the most in 2022?\"\n",
    "                    - parent level (ministry-level spend). E.g. \"Which ministry spends the most?\""
   ]
  },
  {
   "cell_type": "markdown",
   "id": "1a343e96-0eb6-4217-848e-23340d077025",
   "metadata": {},
   "source": [
    "Most data teams combine both:\n",
    "\n",
    "Dictionary for exact names\n",
    "\n",
    "Covers statutory boards, IHLs, and agencies that don’t vary much.\n",
    "\n",
    "E.g. \"HDB\", \"NEA\", \"MAS\", \"Temasek Polytechnic\".\n",
    "\n",
    "Rules for families / messy cases\n",
    "\n",
    "Ministries and their sub-units.\n",
    "\n",
    "Schools, hospitals, PMO sub-offices.\n",
    "\n",
    "Catch-alls like \"contains('School') → MOE\".\n",
    "\n",
    "This hybrid approach gives you:\n",
    "\n",
    "Clean explicit mappings where possible.\n",
    "\n",
    "Robust handling for all the messy variants."
   ]
  },
  {
   "cell_type": "code",
   "execution_count": 52,
   "id": "c5feaa2c-54d9-4275-b92e-5ed555af246b",
   "metadata": {},
   "outputs": [],
   "source": [
    "df['agency'] = df['agency'].str.strip().str.title() #remove spaces and put into title case"
   ]
  },
  {
   "cell_type": "code",
   "execution_count": 53,
   "id": "1f4e414e-b3d4-4d33-b8bb-3a05aead9f29",
   "metadata": {},
   "outputs": [],
   "source": [
    "# By default, if no rule matches, the agency is its own parent. agency_sub stays blank unless we explicitly split it\n",
    "df['agency_parent'] = df['agency']\n",
    "df['agency_sub'] = None \n",
    "\n",
    "# Case 1: Split on \" - \" or \"-\"\n",
    "split_mask = df['agency'].str.contains(r'\\s*-\\s*', regex=True)\n",
    "df.loc[split_mask, ['agency_parent', 'agency_sub']] = (\n",
    "    df.loc[split_mask, 'agency'].str.split(r'\\s*-\\s*', n=1, expand=True)\n",
    ")\n",
    "\n",
    "# Case 2: Judiciary\n",
    "# E.g. Judiciary - Supreme Court -> parent: Judiciary, sub -> Supreme Court. Extensible → if we later have \"Family Justice Courts\", this rule will help split. \n",
    "jud_mask = df['agency'].str.startswith(\"Judiciary\", na=False)\n",
    "df.loc[jud_mask, 'agency_parent'] = \"Judiciary\"\n",
    "df.loc[jud_mask, 'agency_sub'] = df.loc[jud_mask, 'agency'].str.replace(\"Judiciary[-]?\", \"\", regex=True).str.strip()\n",
    "\n",
    "# Case 3: Prime Minister's Office\n",
    "pmo_mask = df['agency'].str.startswith(\"Prime Minister\", na=False)\n",
    "df.loc[pmo_mask, 'agency_parent'] = \"Prime Minister's Office\"\n",
    "df.loc[pmo_mask, 'agency_sub'] = df.loc[pmo_mask, 'agency'].str.replace(\"Prime Minister'S Office[-]?\", \"\", regex=True).str.strip()\n",
    "\n",
    "# Case 4: Schools / IHLs (MOE roll-up)\n",
    "edu_keywords = [\"School\", \"Institution\", \"Polytechnic\", \"University\", \"College\"]\n",
    "edu_mask = df['agency'].str.contains('|'.join(edu_keywords), case=False, na=False)\n",
    "df.loc[edu_mask, 'agency_parent'] = \"Ministry Of Education\"\n",
    "df.loc[edu_mask, 'agency_sub'] = df.loc[edu_mask, 'agency']\n",
    "\n",
    "# Case 5: Hospitals / Polyclinics (MOH roll-up)\n",
    "health_keywords = [\"Hospital\", \"Polyclinic\"]\n",
    "health_mask = df['agency'].str.contains('|'.join(health_keywords), case=False, na=False)\n",
    "df.loc[health_mask, 'agency_parent'] = \"Ministry Of Health\"\n",
    "df.loc[health_mask, 'agency_sub'] = df.loc[health_mask, 'agency'] #E.g. KK Hospital will be preserved\n",
    "\n",
    "# Case 6: Standalone. Parliament / Istana as self-contained parents. No sub/child as they aren't split further\n",
    "special = [\"Parliament\", \"Istana\"]\n",
    "spec_mask = df['agency'].isin(special)\n",
    "df.loc[spec_mask, 'agency_parent'] = df.loc[spec_mask, 'agency']\n",
    "df.loc[spec_mask, 'agency_sub'] = None"
   ]
  },
  {
   "cell_type": "code",
   "execution_count": 54,
   "id": "3fca854e-b16f-4181-b28e-2c353e422581",
   "metadata": {},
   "outputs": [
    {
     "name": "stdout",
     "output_type": "stream",
     "text": [
      "Unique raw agencies: 111\n",
      "Unique agency_parent: 61\n",
      "Standalone agencies (no split, not rolled up):\n",
      "['Accounting And Corporate Regulatory Authority'\n",
      " 'Building And Construction Authority' 'Central Provident Fund Board'\n",
      " 'Board Of Architects' 'Civil Aviation Authority Of Singapore'\n",
      " 'Competition And Consumer Commission Of Singapore (Cccs)'\n",
      " 'Council For Estate Agencies'\n",
      " 'Gambling Regulatory Authority Of Singapore (Gra)' 'Ministry Of Defence'\n",
      " 'Defence Science And Technology Agency'\n",
      " 'Singapore Examinations And Assessment Board'\n",
      " 'Economic Development Board' 'Housing And Development Board'\n",
      " 'Energy Market Authority Of Singapore'\n",
      " 'Ministry Of Sustainability And The Environment' 'Enterprise Singapore'\n",
      " 'Ministry Of Foreign Affairs' 'Government Technology Agency  (Govtech)'\n",
      " 'Health Promotion Board' 'Home Team Science And Technology Agency'\n",
      " 'Land Transport Authority' 'Health Sciences Authority'\n",
      " 'Intellectual Property Office Of Singapore'\n",
      " 'Inland Revenue Authority Of Singapore' 'Istana'\n",
      " 'Ministry Of Digital Development And Information'\n",
      " 'Institute Of Technical Education' 'National Environment Agency'\n",
      " 'Jurong Town Corporation' 'Monetary Authority Of Singapore'\n",
      " 'Ministry Of Education' 'Maritime And Port Authority Of Singapore'\n",
      " 'Majlis Ugama Islam Singapura' 'National Arts Council'\n",
      " 'National Council Of Social Service' 'National Parks Board'\n",
      " 'National Heritage Board' 'National Library Board'\n",
      " 'Agency For Science, Technology And Research' \"People'S Association\"\n",
      " 'Parliament' 'Public Utilities Board' 'Singapore Food Agency'\n",
      " 'Skillsfuture Singapore' 'Professional Engineers Board'\n",
      " 'Productivity Fund Administration Board' 'Public Transport Council'\n",
      " 'Science Centre Board' 'Yellow Ribbon Singapore'\n",
      " 'Sentosa Development Corporation' 'Singapore Land Authority'\n",
      " 'Singapore Medical Council' 'Singapore Labour Foundation'\n",
      " 'Singapore Nursing Board' 'Singapore Sports Council (Sport Singapore)'\n",
      " 'Singapore Tourism Board' 'Tote Board' 'Urban Redevelopment Authority'\n",
      " 'Workforce Singapore']\n"
     ]
    }
   ],
   "source": [
    "# Validation\n",
    "\n",
    "# 1. Spot check random rows\n",
    "df[['agency','agency_parent','agency_sub']].sample(5)\n",
    "\n",
    "# 2. Compare parent vs raw counts - parents should be fewer than raw agencies. If =, roll-up did not wrok\n",
    "print(\"Unique raw agencies:\", df['agency'].nunique())\n",
    "print(\"Unique agency_parent:\", df['agency_parent'].nunique())\n",
    "\n",
    "#3 . Find where parent == raw (i.e. standalone agencies). Should show statutory boards like \"HDB\"\n",
    "standalone = df.loc[df['agency'] == df['agency_parent'], 'agency'].unique()\n",
    "print(\"Standalone agencies (no split, not rolled up):\")\n",
    "print(standalone[:100])"
   ]
  },
  {
   "cell_type": "code",
   "execution_count": 55,
   "id": "5bbf9bdd-6a62-4039-bfb3-a03d9062b899",
   "metadata": {},
   "outputs": [
    {
     "name": "stdout",
     "output_type": "stream",
     "text": [
      "                                                  agency  \\\n",
      "17773  Ministry Of Trade & Industry-Ministry Headquarter   \n",
      "437    Ministry Of Culture, Community And Youth - Min...   \n",
      "4885             Ministry Of Health-Ministry Headquarter   \n",
      "15562                               Republic Polytechnic   \n",
      "2311                         Ministry Of Finance - Vital   \n",
      "702    Ministry Of Social And Family Development - Mi...   \n",
      "10340  Ministry Of Manpower - Occupational Safety & H...   \n",
      "4935             Ministry Of Health-Ministry Headquarter   \n",
      "2546                         Ministry Of Finance - Vital   \n",
      "9237   Ministry Of Home Affairs - Ministry Headquarter 1   \n",
      "42                           Attorney-General'S Chambers   \n",
      "5057       Ministry Of Home Affairs-Ministry Headquarter   \n",
      "625    Ministry Of Social And Family Development - Mi...   \n",
      "2408                         Ministry Of Finance - Vital   \n",
      "17771  Ministry Of Trade & Industry-Ministry Headquarter   \n",
      "2343                         Ministry Of Finance - Vital   \n",
      "2486                         Ministry Of Finance - Vital   \n",
      "14439  Prime Minister'S Office - National Research Fo...   \n",
      "10245          Ministry Of Manpower-Ministry Headquarter   \n",
      "17509                                Temasek Polytechnic   \n",
      "\n",
      "                 agency_parent                      agency_sub  \n",
      "17773                      NaN                             NaN  \n",
      "437                        NaN                             NaN  \n",
      "4885                       NaN                             NaN  \n",
      "15562    Ministry Of Education            Republic Polytechnic  \n",
      "2311                       NaN                             NaN  \n",
      "702                        NaN                             NaN  \n",
      "10340                      NaN                             NaN  \n",
      "4935                       NaN                             NaN  \n",
      "2546                       NaN                             NaN  \n",
      "9237                       NaN                             NaN  \n",
      "42                         NaN                             NaN  \n",
      "5057                       NaN                             NaN  \n",
      "625                        NaN                             NaN  \n",
      "2408                       NaN                             NaN  \n",
      "17771                      NaN                             NaN  \n",
      "2343                       NaN                             NaN  \n",
      "2486                       NaN                             NaN  \n",
      "14439  Prime Minister's Office  - National Research Foundation  \n",
      "10245                      NaN                             NaN  \n",
      "17509    Ministry Of Education             Temasek Polytechnic  \n"
     ]
    }
   ],
   "source": [
    "# Find where parent != raw (i.e. split worked)\n",
    "# e.g. #e.g. Ministry of Finance - Vital -> parent: Ministry of Finance, sub: Vital\n",
    "split_examples = df.loc[df['agency'] != df['agency_parent'], \n",
    "                        ['agency','agency_parent','agency_sub']].sample(20) \n",
    "print(split_examples)"
   ]
  },
  {
   "cell_type": "code",
   "execution_count": 50,
   "id": "9b6d3daf-4a8b-4827-b702-12c8fc391ee5",
   "metadata": {},
   "outputs": [
    {
     "name": "stdout",
     "output_type": "stream",
     "text": [
      "Examples of schools under MOE:\n",
      "                       agency             agency_sub\n",
      "17689    Temasek Polytechnic    Temasek Polytechnic\n",
      "13355    Nanyang Polytechnic    Nanyang Polytechnic\n",
      "13441    Nanyang Polytechnic    Nanyang Polytechnic\n",
      "9498   Ministry Of Education                   None\n",
      "16519  Singapore Polytechnic  Singapore Polytechnic\n",
      "15548   Republic Polytechnic   Republic Polytechnic\n",
      "10011  Ministry Of Education                   None\n",
      "17716    Temasek Polytechnic    Temasek Polytechnic\n",
      "1188   Civil Service College  Civil Service College\n",
      "10102  Ministry Of Education                   None\n"
     ]
    }
   ],
   "source": [
    "# Check school roll-ups\n",
    "schools = df[df['agency_parent'] == \"Ministry Of Education\"]\n",
    "print(\"Examples of schools under MOE:\\n\", schools[['agency','agency_sub']].sample(10))"
   ]
  },
  {
   "cell_type": "code",
   "execution_count": 56,
   "id": "4ca3addd-46e8-489c-ad7f-1617b17b5bbc",
   "metadata": {},
   "outputs": [
    {
     "name": "stdout",
     "output_type": "stream",
     "text": [
      "Examples of healthcare institutions:\n",
      " Empty DataFrame\n",
      "Columns: [agency, agency_sub]\n",
      "Index: []\n"
     ]
    }
   ],
   "source": [
    "# Check hospital roll-ups\n",
    "hospitals = df[df['agency_parent'] == \"Ministry Of Health\"]\n",
    "print(\"Examples of healthcare institutions:\\n\", hospitals[['agency','agency_sub']].head(10))"
   ]
  },
  {
   "cell_type": "code",
   "execution_count": 57,
   "id": "caa4036e-c438-49ca-a8b5-5c6c9f9ad2a0",
   "metadata": {},
   "outputs": [
    {
     "name": "stdout",
     "output_type": "stream",
     "text": [
      "Missing parents:           id          tender_no  \\\n",
      "13        13  AGC000ETT19300016   \n",
      "14        14  AGC000ETT19300016   \n",
      "15        15  AGC000ETT19300016   \n",
      "16        16  AGC000ETT20300002   \n",
      "17        17  AGC000ETT20300003   \n",
      "...      ...                ...   \n",
      "17779  17779  TRAHQ0ETT23000002   \n",
      "17780  17780  TRAHQ0ETT23000002   \n",
      "17781  17781  TRAHQ0ETT23000002   \n",
      "17782  17782  TRAHQ0ETT24000001   \n",
      "17783  17783  TRAHQ0ETT24000002   \n",
      "\n",
      "                                      tender_description  \\\n",
      "13     INVITATION TO TENDER FOR THE PROVISION OF CHAN...   \n",
      "14     INVITATION TO TENDER FOR THE PROVISION OF CHAN...   \n",
      "15     INVITATION TO TENDER FOR THE PROVISION OF CHAN...   \n",
      "16     ITT for the Provisioning and Maintenance of an...   \n",
      "17     ITT FOR THE PROVISION OF DESIGN AND DELIVERY S...   \n",
      "...                                                  ...   \n",
      "17779  Provision of ICT Professional Services for an ...   \n",
      "17780  Provision of ICT Professional Services for an ...   \n",
      "17781  Provision of ICT Professional Services for an ...   \n",
      "17782  Provision of Event Management Services for the...   \n",
      "17783  Provision of Minor Renovation Works at Level 2...   \n",
      "\n",
      "                                                  agency award_date  \\\n",
      "13                           Attorney-General'S Chambers 2020-04-29   \n",
      "14                           Attorney-General'S Chambers 2020-04-29   \n",
      "15                           Attorney-General'S Chambers 2020-04-29   \n",
      "16                           Attorney-General'S Chambers 2020-09-24   \n",
      "17                           Attorney-General'S Chambers 2020-07-22   \n",
      "...                                                  ...        ...   \n",
      "17779  Ministry Of Trade & Industry-Ministry Headquarter 2024-02-06   \n",
      "17780  Ministry Of Trade & Industry-Ministry Headquarter 2024-02-06   \n",
      "17781  Ministry Of Trade & Industry-Ministry Headquarter 2024-02-06   \n",
      "17782  Ministry Of Trade & Industry-Ministry Headquarter 2024-05-24   \n",
      "17783  Ministry Of Trade & Industry-Ministry Headquarter 2025-02-03   \n",
      "\n",
      "       tender_detail_status                                   supplier_name  \\\n",
      "13         Awarded by Items                           TERRA SYSTEMS PTE LTD   \n",
      "14         Awarded by Items                    TOTAL EBIZ SOLUTIONS PTE LTD   \n",
      "15         Awarded by Items                     ZENITH INFOTECH (S) PTE LTD   \n",
      "16     Awarded to Suppliers                     Checkbox Technology Pty Ltd   \n",
      "17     Awarded to Suppliers                               INTERSECT PTE LTD   \n",
      "...                     ...                                             ...   \n",
      "17779      Awarded by Items  TATA CONSULTANCY SERVICES ASIA PACIFIC PTE LTD   \n",
      "17780      Awarded by Items                         TOPPAN ECQUARIA PTE LTD   \n",
      "17781      Awarded by Items                    TOTAL EBIZ SOLUTIONS PTE LTD   \n",
      "17782  Awarded to Suppliers                              SPACELOGIC PTE LTD   \n",
      "17783  Awarded to Suppliers                      KIM YEW INTEGRATED PTE LTD   \n",
      "\n",
      "       awarded_amt                           tender_description_clean  \\\n",
      "13        576000.0  invitation to tender for the provision of chan...   \n",
      "14        679200.0  invitation to tender for the provision of chan...   \n",
      "15       1687212.0  invitation to tender for the provision of chan...   \n",
      "16        890910.0  itt for the provisioning and maintenance of an...   \n",
      "17        437500.0  itt for the provision of design and delivery s...   \n",
      "...            ...                                                ...   \n",
      "17779     997670.0  provision of ict professional services for an ...   \n",
      "17780    1059725.0  provision of ict professional services for an ...   \n",
      "17781     973753.0  provision of ict professional services for an ...   \n",
      "17782     276830.0  provision of event management services for the...   \n",
      "17783   12758738.0  provision of minor renovation works at level 2...   \n",
      "\n",
      "      agency_parent agency_sub tender_detail_status_clean  \n",
      "13              NaN        NaN              AWARDED_ITEMS  \n",
      "14              NaN        NaN              AWARDED_ITEMS  \n",
      "15              NaN        NaN              AWARDED_ITEMS  \n",
      "16              NaN        NaN          AWARDED_SUPPLIERS  \n",
      "17              NaN        NaN          AWARDED_SUPPLIERS  \n",
      "...             ...        ...                        ...  \n",
      "17779           NaN        NaN              AWARDED_ITEMS  \n",
      "17780           NaN        NaN              AWARDED_ITEMS  \n",
      "17781           NaN        NaN              AWARDED_ITEMS  \n",
      "17782           NaN        NaN          AWARDED_SUPPLIERS  \n",
      "17783           NaN        NaN          AWARDED_SUPPLIERS  \n",
      "\n",
      "[2783 rows x 12 columns]\n"
     ]
    }
   ],
   "source": [
    "# Where parent is missing (shouldn’t happen unless bug)\n",
    "missing_parent = df[df['agency_parent'].isna()]\n",
    "print(\"Missing parents:\", missing_parent)"
   ]
  },
  {
   "cell_type": "markdown",
   "id": "b045aff0-5c33-4ec4-a780-c4d751ebbfe8",
   "metadata": {},
   "source": [
    "## 4) award_date"
   ]
  },
  {
   "cell_type": "markdown",
   "id": "034854aa-719d-4736-94e2-3d4c004ef7d3",
   "metadata": {},
   "source": [
    "- Currently, `award_date` is in `dd/mm/yyyy` or `d/m/yyyy` formats\n",
    "- Transformation(s):\n",
    "    - Convert to `datetime`.\n",
    "        - There’s no separate `date` dtype that works nicely with vectorized operations.\n",
    "        - Even if your data only has dates (no times), Pandas stores it as datetime because its `datetime64` is the standard for date-like data.\n",
    "        - You could technically convert to Python’s datetime.date, but then your column becomes object dtype (slower, clunkier, not recommended).\n",
    "        - Any invalid/missing dates will become `NaT`\n",
    "- Note: In SQLAlchemy load step, map it to `DATE`. "
   ]
  },
  {
   "cell_type": "code",
   "execution_count": 24,
   "id": "aea7fa70-1559-4e29-a359-715f5a14a5a2",
   "metadata": {},
   "outputs": [
    {
     "name": "stdout",
     "output_type": "stream",
     "text": [
      "Award date dtype: datetime64[ns]\n"
     ]
    }
   ],
   "source": [
    "# dayfirst = True because dates are in dd/mm/yyyy format. with errors='coerce', if pandas sees an invalid date, it will set it as NaT (Not a Time) \n",
    "df['award_date'] = pd.to_datetime(df['award_date'], dayfirst=True, errors='coerce')\n",
    "# confirming that it's now datetime64, not object (string)\n",
    "print(\"Award date dtype:\", df['award_date'].dtype)"
   ]
  },
  {
   "cell_type": "markdown",
   "id": "86619b36-604d-49bd-9d93-1a728da3c271",
   "metadata": {},
   "source": [
    "## 5) `tender_detail_status`"
   ]
  },
  {
   "cell_type": "markdown",
   "id": "11ccceec-6eee-4b94-a497-f7bb9cd51433",
   "metadata": {},
   "source": [
    "**Has 4 different statuses:**\n",
    "- `Awarded to Suppliers` - Supplier was chosen and amount is recorded.\n",
    "- `Awarded by Items` - Instead of one supplier getting the whole thing, individual line items were awarded to different suppliers. \n",
    "- `Awarded to No Suppliers` - Tender closed but nobody was awarded. Hence corresponding column `awarded_amt = 0`\n",
    "- `Award by Interface` - System generated status. Usually means the award details were inserted by an automated interface instead of manual entry. Functionally, it's still an award.\n",
    "\n",
    "**Status phrasing is inconsistent.**\n",
    "- `Awarded by items` vs `Awarded to Suppliers` mix `\"by\"` vs `\"to\"`\n",
    "- `Award by interface record` does not follow the same tense/grammar pattern like the other statuses.\n",
    "- if we want to run `SELECT COUNT(*) WHERE tender_detail_status LIKE `Awarded%`, we will miss `Award by interface record`. The subtle difference makes grouping harder.\n",
    "\n",
    "- Ideally we want **categorical columns** to be standardized into a controlled vocabulary (e.g. enum or lookup table) Why?\n",
    "    - Consistency across rows\n",
    "    - Easier to group/aggregate in SQL\n",
    "    - Makes schema design more meaningful (e.g. a dimension table for tender status could have 4 values).\n",
    "\n",
    "\n",
    "- **Transformation(s):**\n",
    "    - Step 1 - Trim whitespace\n",
    "    - Step 2 - Map to a controlled vocabulary for easier querying in DB (e.g. `\"AWARDED_ITEMS\"`, `\"AWARDED_SUPPLIERS\"`)"
   ]
  },
  {
   "cell_type": "code",
   "execution_count": 25,
   "id": "093c2c2b-2cf8-422f-a170-4d4bdc8d5160",
   "metadata": {},
   "outputs": [],
   "source": [
    "df['tender_detail_status'] = df['tender_detail_status'].str.strip() #strip whitespace"
   ]
  },
  {
   "cell_type": "code",
   "execution_count": 26,
   "id": "2ae9775a-9b09-48c8-8341-48c4b021299a",
   "metadata": {},
   "outputs": [],
   "source": [
    "# Create a dictionary to raw text into clean categories\n",
    "status_map = {\n",
    "    \"Award by interface record\": \"AWARDED_INTERFACE\",\n",
    "    \"Awarded by Items\": \"AWARDED_ITEMS\",\n",
    "    \"Awarded to No Suppliers\": \"NO_SUPPLIERS\",\n",
    "    \"Awarded to Suppliers\": \"AWARDED_SUPPLIERS\"\n",
    "}"
   ]
  },
  {
   "cell_type": "code",
   "execution_count": 27,
   "id": "11d9d52e-5a5b-4739-84ce-b27cad2f36ff",
   "metadata": {},
   "outputs": [],
   "source": [
    "# Create a new column with the clean values\n",
    "df['tender_detail_status_clean'] = df['tender_detail_status'].map(status_map)"
   ]
  },
  {
   "cell_type": "code",
   "execution_count": 28,
   "id": "ef1f43ef-9595-412e-b489-c76bf12c3b8a",
   "metadata": {},
   "outputs": [
    {
     "name": "stdout",
     "output_type": "stream",
     "text": [
      "Tender detail status counts:\n",
      " tender_detail_status_clean\n",
      "AWARDED_SUPPLIERS    9174\n",
      "AWARDED_ITEMS        7590\n",
      "NO_SUPPLIERS          699\n",
      "AWARDED_INTERFACE     558\n",
      "Name: count, dtype: int64\n"
     ]
    }
   ],
   "source": [
    "# Check distribution of statuses after cleaning\n",
    "print(\"Tender detail status counts:\\n\", df['tender_detail_status_clean'].value_counts())"
   ]
  },
  {
   "cell_type": "code",
   "execution_count": 29,
   "id": "7935f7c2-96c4-45ca-9a16-77f86800afc0",
   "metadata": {},
   "outputs": [
    {
     "name": "stdout",
     "output_type": "stream",
     "text": [
      "Empty DataFrame\n",
      "Columns: [tender_no, tender_description, agency, award_date, tender_detail_status, supplier_name, awarded_amt, tender_description_clean, agency_parent, agency_sub, tender_detail_status_clean]\n",
      "Index: []\n"
     ]
    }
   ],
   "source": [
    "# TEST - Tender status consistency check. \n",
    "unexpected_status = df.loc[~df['tender_detail_status'].isin(status_map.keys())]\n",
    "# empty dataframe as dataset only has 4 statuses we already mapped. \n",
    "# While there are no surprise values in this dataset, it's just a safeguard for future updates.\n",
    "# E.g. imagine a new status \"Cancelled\" appears. this check will flag it\n",
    "print(unexpected_status) "
   ]
  },
  {
   "cell_type": "markdown",
   "id": "268af6a8-e39d-4473-b32a-f1c5995039e1",
   "metadata": {},
   "source": [
    "## 6) `supplier_name`"
   ]
  },
  {
   "cell_type": "markdown",
   "id": "c6e50853-ee6a-4b77-b38e-a47e70d720fc",
   "metadata": {},
   "source": [
    "- Supplier names are inconsistent. Messy casing & suffixes due to different capitalization style.\n",
    "    - E.g. `KPMG SERVICES PTE. LTD`, `CRIMSONLOGIC PTE LTD`, `Checkbox Technology Pte Ltd`\n",
    "- If we don’t standardize, queries like \"GROUP BY supplier\" will count them separately.\n",
    "- Important as we want to avoid duplicates in SQL when grouping by supplier\n",
    "\n",
    "- **Transformations:**\n",
    "    - Strip whitespace\n",
    "    - Identify rows with double spaces. Why?\n",
    "        - If you do a `GROUP BY supplier_name` in SQL, `BGPROTECT  LTD` and `BGPROTECT LTD` will be treated as two different suppliers.\n",
    "    - Normalize suffixes (e.g. `PTE LTD, PTE. LTD -> PTE LTD)\n",
    "    - Remove trailing periods"
   ]
  },
  {
   "cell_type": "code",
   "execution_count": 30,
   "id": "14722c01-be67-40ae-ba29-1cb52608eb3d",
   "metadata": {},
   "outputs": [],
   "source": [
    "# Remove leading/trailing spaces make everything uppercase for consistency\n",
    "df['supplier_name'] = df['supplier_name'].str.strip()"
   ]
  },
  {
   "cell_type": "code",
   "execution_count": 31,
   "id": "629b818a-6c95-49f8-b607-e778fa1dd868",
   "metadata": {},
   "outputs": [
    {
     "name": "stdout",
     "output_type": "stream",
     "text": [
      "Rows with double spaces: 6\n"
     ]
    }
   ],
   "source": [
    "# Identify rows with double spaces in supplier_name column values\n",
    "mask = df['supplier_name'].str.contains(r'\\s{2,}', na=False) #2 or more double spaces, na=False ignore NaN values if any\n",
    "df[mask].head(10)\n",
    "print(\"Rows with double spaces:\", mask.sum()) #if 0, means it's clean. otherwise, it means we have supplier names with double spaces"
   ]
  },
  {
   "cell_type": "code",
   "execution_count": 32,
   "id": "6fc89a11-d602-4fef-9288-4b95b26ce7f0",
   "metadata": {},
   "outputs": [
    {
     "data": {
      "text/plain": [
       "array(['BGProtect  LTD',\n",
       "       'Taisei Corporation-China State Construction  Engineering Corporation Limited Singapore Branch Joint Venture',\n",
       "       'SUEZ (SINGAPORE) SERVICES  PTE. LTD.', 'KASTURI  PRODUCTION',\n",
       "       'CHEMICALS TESTING & CALIBRATION  LABORATORY',\n",
       "       'Winnie Manikam  Krishnaveni mrs Winnie Ubbink'], dtype=object)"
      ]
     },
     "execution_count": 32,
     "metadata": {},
     "output_type": "execute_result"
    }
   ],
   "source": [
    "# show distinct supplier names that have double spaces \n",
    "df.loc[mask, 'supplier_name'].unique() "
   ]
  },
  {
   "cell_type": "code",
   "execution_count": 33,
   "id": "19a1acc5-d8db-4557-907c-cba81c7ea0a0",
   "metadata": {},
   "outputs": [
    {
     "name": "stdout",
     "output_type": "stream",
     "text": [
      "Rows with double spaces: 6\n"
     ]
    }
   ],
   "source": [
    "# ensure supplier names are normalized. so no duplicates due to space issues\n",
    "df['supplier_name'] = df['supplier_name'].str.replace(r'\\s+', ' ', regex=True) \n",
    "print(\"Rows with double spaces:\", mask.sum()) #if 0, means it's clean. "
   ]
  },
  {
   "cell_type": "code",
   "execution_count": 34,
   "id": "8b9eb855-f118-46a5-b7ac-f68f5cc73582",
   "metadata": {},
   "outputs": [],
   "source": [
    "# Normalizing common suffixes using regex (pattern matching)\n",
    "df['supplier_name'] = df['supplier_name'].str.replace(r'PTE\\.?', 'PTE', regex=True)\n",
    "df['supplier_name'] = df['supplier_name'].str.replace(r'LTD\\.?', 'LTD', regex=True)"
   ]
  },
  {
   "cell_type": "code",
   "execution_count": 35,
   "id": "ea0c8262-cf86-4ed8-9608-a50411304d23",
   "metadata": {},
   "outputs": [],
   "source": [
    "# Remove trailing periods\n",
    "df['supplier_name'] = df['supplier_name'].str.replace(r'\\.\\s*$', '', regex=True)"
   ]
  },
  {
   "cell_type": "code",
   "execution_count": 36,
   "id": "e6663e8a-7ce1-48cb-89c3-8af7a91543d6",
   "metadata": {},
   "outputs": [
    {
     "name": "stdout",
     "output_type": "stream",
     "text": [
      "Sample suppliers:\n",
      " 0     DELOITTE & TOUCHE ENTERPRISE RISK SERVICES PTE...\n",
      "1                                 KPMG SERVICES PTE LTD\n",
      "2                        ERNST & YOUNG ADVISORY PTE LTD\n",
      "3                       D' PERCEPTION SINGAPORE PTE LTD\n",
      "4                                   ALPHA ZETTA PTE LTD\n",
      "5                         ACCENTURE SG SERVICES PTE LTD\n",
      "6                                  CRIMSONLOGIC PTE LTD\n",
      "7                              FPT ASIA PACIFIC PTE LTD\n",
      "11                         NXGEN COMMUNICATIONS PTE LTD\n",
      "12         PRICEWATERHOUSECOOPERS RISK SERVICES PTE LTD\n",
      "Name: supplier_name, dtype: object\n"
     ]
    }
   ],
   "source": [
    "print(\"Sample suppliers:\\n\", df['supplier_name'].drop_duplicates().head(10)) #to check if cleaning works as expected"
   ]
  },
  {
   "cell_type": "markdown",
   "id": "ed942199-127c-42bb-a95c-4383333851cf",
   "metadata": {},
   "source": [
    "## 7) `awarded_amt` column"
   ]
  },
  {
   "cell_type": "markdown",
   "id": "37dd5c33-1ded-4ba4-8295-0e8de626b31d",
   "metadata": {},
   "source": [
    "- No currency symbol cleanup is needed\n",
    "- Ensure the award amount is numeric.\n",
    "- If tender was closed with no suppliers, this column should be 0.\n",
    "- **Transformation(s):**\n",
    "    - Convert to numeric explicitly\n",
    "    - Enforce rule: if status == `No Suppliers`, check awarded_amt = 0"
   ]
  },
  {
   "cell_type": "code",
   "execution_count": 37,
   "id": "cd18ce37-3dab-4f97-8fed-e725cf5a14cb",
   "metadata": {},
   "outputs": [],
   "source": [
    "# Convert to numeric, force errors to NaN (null).\n",
    "df['awarded_amt'] = pd.to_numeric(df['awarded_amt'], errors='coerce')"
   ]
  },
  {
   "cell_type": "code",
   "execution_count": 38,
   "id": "a6ca83ab-0f5a-41a5-9061-273424d8afe0",
   "metadata": {},
   "outputs": [],
   "source": [
    "# Business rule check - \"No Suppliers\" tenders should ALWAYS HAVE awarded_amt = 0\n",
    "mask_no_suppliers = df['tender_detail_status_clean'] == \"NO_SUPPLIERS\"\n",
    "if not (df.loc[mask_no_suppliers, 'awarded_amt'] == 0).all():\n",
    "    print(\"WARNING: Some NO_SUPPLIERS tenders have non-zero awarded_amt\")"
   ]
  },
  {
   "cell_type": "code",
   "execution_count": 39,
   "id": "05a63a74-73ca-4f87-ade9-6ac2d6bec845",
   "metadata": {},
   "outputs": [
    {
     "name": "stdout",
     "output_type": "stream",
     "text": [
      "Awarded_amt stats:\n",
      " count    1.802100e+04\n",
      "mean     6.100677e+06\n",
      "std      4.120565e+07\n",
      "min      0.000000e+00\n",
      "25%      7.490000e+03\n",
      "50%      1.709200e+05\n",
      "75%      8.930000e+05\n",
      "max      1.493179e+09\n",
      "Name: awarded_amt, dtype: float64\n"
     ]
    }
   ],
   "source": [
    "# Using describe() to give us min, max, mean, percentiles. Good for spotting outliers.\n",
    "print(\"Awarded_amt stats:\\n\", df['awarded_amt'].describe())"
   ]
  },
  {
   "cell_type": "code",
   "execution_count": 40,
   "id": "5dadd157-4de8-40db-b0c8-78ea8e215a96",
   "metadata": {},
   "outputs": [],
   "source": [
    "# For outlier sanity check experiment"
   ]
  },
  {
   "cell_type": "code",
   "execution_count": 41,
   "id": "6db5c289-7dc9-48ec-a176-b9d6f8f0bce6",
   "metadata": {},
   "outputs": [
    {
     "data": {
      "text/plain": [
       "count    1.802100e+04\n",
       "mean     6.100677e+06\n",
       "std      4.120565e+07\n",
       "min      0.000000e+00\n",
       "50%      1.709200e+05\n",
       "90%      5.157000e+06\n",
       "99%      1.541576e+08\n",
       "max      1.493179e+09\n",
       "Name: awarded_amt, dtype: float64"
      ]
     },
     "execution_count": 41,
     "metadata": {},
     "output_type": "execute_result"
    }
   ],
   "source": [
    "# 1) look for abnormal spikes by percentiles\n",
    "df['awarded_amt'].describe(percentiles=[.5, .9, .99])"
   ]
  },
  {
   "cell_type": "code",
   "execution_count": 42,
   "id": "bda0756b-b64f-4edc-9f41-c29a1345ed9b",
   "metadata": {},
   "outputs": [
    {
     "name": "stdout",
     "output_type": "stream",
     "text": [
      "Negative amounts: Empty DataFrame\n",
      "Columns: [tender_no, tender_description, agency, award_date, tender_detail_status, supplier_name, awarded_amt, tender_description_clean, agency_parent, agency_sub, tender_detail_status_clean]\n",
      "Index: []\n"
     ]
    }
   ],
   "source": [
    "# 2) Check for negative amounts\n",
    "print(\"Negative amounts:\", df[df['awarded_amt'] < 0]) #should be empty anyway. "
   ]
  },
  {
   "cell_type": "code",
   "execution_count": 43,
   "id": "5b0b5088-9fbb-4416-b4b1-41837ee94fec",
   "metadata": {},
   "outputs": [
    {
     "name": "stdout",
     "output_type": "stream",
     "text": [
      "Suspiciously large amounts:                tender_no                                 tender_description  \\\n",
      "7759   LTA000ETT19300138       Design and Construction of Changi East Depot   \n",
      "7798   LTA000ETT19300194  Bus Contracting - Bulim and Sembawang-Yishun B...   \n",
      "8054   LTA000ETT21000084  Design and Construction of Riviera Interchange...   \n",
      "10819  NEA000ETT19300029  Proposed Erection of Integrated Waste Manageme...   \n",
      "\n",
      "                            agency award_date  tender_detail_status  \\\n",
      "7759      Land Transport Authority 2021-05-28  Awarded to Suppliers   \n",
      "7798      Land Transport Authority 2020-09-30  Awarded to Suppliers   \n",
      "8054      Land Transport Authority 2022-09-30  Awarded to Suppliers   \n",
      "10819  National Environment Agency 2020-04-14  Awarded to Suppliers   \n",
      "\n",
      "                                           supplier_name   awarded_amt  \\\n",
      "7759   CHINA JINGYE ENGINEERING CORPORATION LIMITED (...  1.050500e+09   \n",
      "7798                     TOWER TRANSIT SINGAPORE PTE LTD  1.025103e+09   \n",
      "8054                                  TAISEI CORPORATION  1.098196e+09   \n",
      "10819       KEPPEL SEGHERS ENGINEERING SINGAPORE PTE LTD  1.493179e+09   \n",
      "\n",
      "                                tender_description_clean  \\\n",
      "7759        design and construction of changi east depot   \n",
      "7798   bus contracting - bulim and sembawang-yishun b...   \n",
      "8054   design and construction of riviera interchange...   \n",
      "10819  proposed erection of integrated waste manageme...   \n",
      "\n",
      "                     agency_parent agency_sub tender_detail_status_clean  \n",
      "7759      Land Transport Authority       None          AWARDED_SUPPLIERS  \n",
      "7798      Land Transport Authority       None          AWARDED_SUPPLIERS  \n",
      "8054      Land Transport Authority       None          AWARDED_SUPPLIERS  \n",
      "10819  National Environment Agency       None          AWARDED_SUPPLIERS  \n"
     ]
    }
   ],
   "source": [
    "# 3) Check for suspiciously large/extreme amounts (e.g. > 1 billion SGD)\n",
    "high_values = df[df['awarded_amt'] > 1e9]\n",
    "print(\"Suspiciously large amounts:\", high_values) "
   ]
  },
  {
   "cell_type": "code",
   "execution_count": 44,
   "id": "12a0617b-0aec-4624-821e-ed8d5d709828",
   "metadata": {},
   "outputs": [
    {
     "name": "stdout",
     "output_type": "stream",
     "text": [
      "Checking for null values after cleaning:\n",
      " tender_no                         0\n",
      "tender_description                0\n",
      "agency                            0\n",
      "award_date                        0\n",
      "tender_detail_status              0\n",
      "supplier_name                     0\n",
      "awarded_amt                       0\n",
      "tender_description_clean          0\n",
      "agency_parent                  2783\n",
      "agency_sub                    16177\n",
      "tender_detail_status_clean        0\n",
      "dtype: int64\n"
     ]
    }
   ],
   "source": [
    "# Check for Nan/Nulls explicitly. Why? After .to_datetime() and .to_numeric(), some rows may have become NaT or NaN.\n",
    "print(\"Checking for null values after cleaning:\\n\", df.isna().sum())"
   ]
  },
  {
   "cell_type": "markdown",
   "id": "1caefab7-241a-4dfb-85d2-6f4242a4992e",
   "metadata": {},
   "source": [
    "# Load"
   ]
  },
  {
   "cell_type": "markdown",
   "id": "0831b1ed-6337-4661-8220-352129e33df3",
   "metadata": {},
   "source": [
    "- Primary Key\n",
    "    - Since `tender_no` is not unique, we can either have a composite key (e.g. tender_no, supplier_name) or surrogate key `id` before loading. Surrogate key seems more futureproof.\n",
    "    - E.g. Of making a surrogate key - `id BIGSERIAL PRIMARY KEY`\n",
    "\n",
    "- Use PostgreSQL"
   ]
  },
  {
   "cell_type": "markdown",
   "id": "4b9f708f-bc61-4e78-a501-bc736e7f92f2",
   "metadata": {},
   "source": [
    "# Data Cleaning"
   ]
  },
  {
   "cell_type": "code",
   "execution_count": 5,
   "id": "bcaec603-bef0-4d0b-8dae-3ee869ec7307",
   "metadata": {},
   "outputs": [],
   "source": [
    "# Clean text data by removing non-word characters, extra spaces and converting text to lowercase"
   ]
  },
  {
   "cell_type": "code",
   "execution_count": 6,
   "id": "1183e0af-23c9-4dc1-9414-1eac66f61bcf",
   "metadata": {},
   "outputs": [],
   "source": [
    "import re\n",
    "from sklearn.model_selection import train_test_split\n",
    "from sklearn.feature_extraction.text import TfidfVectorizer\n",
    "\n",
    "# Example preprocessing: cleaning text\n",
    "def clean_text(text):\n",
    "    text = re.sub(r'\\W', ' ', text)  # Remove non-word characters\n",
    "    text = re.sub(r'\\s+', ' ', text)  # Remove extra spaces\n",
    "    text = text.lower()  # Convert to lowercase\n",
    "    return text\n",
    "\n",
    "data['cleaned_description'] = data['tender_description'].apply(clean_text)"
   ]
  },
  {
   "cell_type": "code",
   "execution_count": 7,
   "id": "76758670-a273-41eb-965e-8ec197634753",
   "metadata": {},
   "outputs": [],
   "source": [
    "# Labelling the data "
   ]
  },
  {
   "cell_type": "code",
   "execution_count": 9,
   "id": "db7dd6df-7f60-4352-922f-3ac988ec126c",
   "metadata": {},
   "outputs": [],
   "source": [
    "def label_category(description):\n",
    "    if 'construction' in description:\n",
    "        return 'Construction'\n",
    "    elif 'medical' in description:\n",
    "        return 'Medical'\n",
    "    else:\n",
    "        return 'Other'\n",
    "\n",
    "#This code adds a Category column to the DataFrame.\n",
    "data['Category'] = data['cleaned_description'].apply(label_category)"
   ]
  },
  {
   "cell_type": "code",
   "execution_count": 10,
   "id": "b1c3ffc7-2648-4806-9788-572da8f269e8",
   "metadata": {},
   "outputs": [],
   "source": [
    "# This code splits the data into 80% training and 20% testing sets\n",
    "X = data['cleaned_description']\n",
    "y = data['Category']\n",
    "\n",
    "X_train, X_test, y_train, y_test = train_test_split(X, y, test_size=0.2, random_state=42)"
   ]
  },
  {
   "cell_type": "code",
   "execution_count": 11,
   "id": "eb59fc31-4882-4f0a-ba18-eaeeb59d8f53",
   "metadata": {},
   "outputs": [],
   "source": [
    "# convert text data into numerical features using TF-IDF vectorization. This helps to represent the text data numerically\n",
    "vectorizer = TfidfVectorizer(max_features=5000)\n",
    "X_train_tfidf = vectorizer.fit_transform(X_train)\n",
    "X_test_tfidf = vectorizer.transform(X_test)"
   ]
  },
  {
   "cell_type": "code",
   "execution_count": 12,
   "id": "e77cc114-5666-4740-877b-815038a557ef",
   "metadata": {},
   "outputs": [],
   "source": [
    "# train a random forest classifier to predict the categories\n",
    "from sklearn.ensemble import RandomForestClassifier\n",
    "from sklearn.metrics import classification_report\n",
    "\n",
    "model = RandomForestClassifier()\n",
    "model.fit(X_train_tfidf, y_train)\n",
    "\n",
    "# Make predictions\n",
    "y_pred = model.predict(X_test_tfidf)"
   ]
  },
  {
   "cell_type": "code",
   "execution_count": 13,
   "id": "3be817d9-9ae9-4a68-b2c8-33e1a427e187",
   "metadata": {},
   "outputs": [
    {
     "name": "stdout",
     "output_type": "stream",
     "text": [
      "              precision    recall  f1-score   support\n",
      "\n",
      "Construction       1.00      1.00      1.00        51\n",
      "     Medical       1.00      1.00      1.00        38\n",
      "       Other       1.00      1.00      1.00      3516\n",
      "\n",
      "    accuracy                           1.00      3605\n",
      "   macro avg       1.00      1.00      1.00      3605\n",
      "weighted avg       1.00      1.00      1.00      3605\n",
      "\n"
     ]
    }
   ],
   "source": [
    "# add predicted categories to the dataframe\n",
    "print(classification_report(y_test, y_pred))"
   ]
  },
  {
   "cell_type": "code",
   "execution_count": 14,
   "id": "81c803fe-73f5-4722-b423-a8d9079179ed",
   "metadata": {},
   "outputs": [
    {
     "data": {
      "text/html": [
       "<div>\n",
       "<style scoped>\n",
       "    .dataframe tbody tr th:only-of-type {\n",
       "        vertical-align: middle;\n",
       "    }\n",
       "\n",
       "    .dataframe tbody tr th {\n",
       "        vertical-align: top;\n",
       "    }\n",
       "\n",
       "    .dataframe thead th {\n",
       "        text-align: right;\n",
       "    }\n",
       "</style>\n",
       "<table border=\"1\" class=\"dataframe\">\n",
       "  <thead>\n",
       "    <tr style=\"text-align: right;\">\n",
       "      <th></th>\n",
       "      <th>tender_no</th>\n",
       "      <th>tender_description</th>\n",
       "      <th>agency</th>\n",
       "      <th>award_date</th>\n",
       "      <th>tender_detail_status</th>\n",
       "      <th>supplier_name</th>\n",
       "      <th>awarded_amt</th>\n",
       "      <th>cleaned_description</th>\n",
       "      <th>Category</th>\n",
       "      <th>Predicted_Category</th>\n",
       "    </tr>\n",
       "  </thead>\n",
       "  <tbody>\n",
       "    <tr>\n",
       "      <th>0</th>\n",
       "      <td>ACR000ETT20300002</td>\n",
       "      <td>INVITATION TO TENDER FOR THE PROVISION OF SERV...</td>\n",
       "      <td>Accounting And Corporate Regulatory Authority</td>\n",
       "      <td>10/11/2020</td>\n",
       "      <td>Awarded by Items</td>\n",
       "      <td>DELOITTE &amp; TOUCHE ENTERPRISE RISK SERVICES PTE...</td>\n",
       "      <td>285000.0</td>\n",
       "      <td>invitation to tender for the provision of serv...</td>\n",
       "      <td>Other</td>\n",
       "      <td>Other</td>\n",
       "    </tr>\n",
       "    <tr>\n",
       "      <th>1</th>\n",
       "      <td>ACR000ETT20300002</td>\n",
       "      <td>INVITATION TO TENDER FOR THE PROVISION OF SERV...</td>\n",
       "      <td>Accounting And Corporate Regulatory Authority</td>\n",
       "      <td>10/11/2020</td>\n",
       "      <td>Awarded by Items</td>\n",
       "      <td>KPMG SERVICES PTE. LTD.</td>\n",
       "      <td>90000.0</td>\n",
       "      <td>invitation to tender for the provision of serv...</td>\n",
       "      <td>Other</td>\n",
       "      <td>Other</td>\n",
       "    </tr>\n",
       "    <tr>\n",
       "      <th>2</th>\n",
       "      <td>ACR000ETT20300003</td>\n",
       "      <td>PROVISION OF AN IT SECURITY CONTROLS AND OPERA...</td>\n",
       "      <td>Accounting And Corporate Regulatory Authority</td>\n",
       "      <td>9/12/2020</td>\n",
       "      <td>Awarded to Suppliers</td>\n",
       "      <td>ERNST &amp; YOUNG ADVISORY PTE. LTD.</td>\n",
       "      <td>182400.0</td>\n",
       "      <td>provision of an it security controls and opera...</td>\n",
       "      <td>Other</td>\n",
       "      <td>Other</td>\n",
       "    </tr>\n",
       "    <tr>\n",
       "      <th>3</th>\n",
       "      <td>ACR000ETT20300004</td>\n",
       "      <td>CONCEPTUALIZATION, DESIGN, BUILD, SET-UP OF NE...</td>\n",
       "      <td>Accounting And Corporate Regulatory Authority</td>\n",
       "      <td>9/3/2021</td>\n",
       "      <td>Awarded to Suppliers</td>\n",
       "      <td>D' PERCEPTION SINGAPORE PTE. LTD.</td>\n",
       "      <td>3071056.4</td>\n",
       "      <td>conceptualization design build set up of new o...</td>\n",
       "      <td>Other</td>\n",
       "      <td>Other</td>\n",
       "    </tr>\n",
       "    <tr>\n",
       "      <th>4</th>\n",
       "      <td>ACR000ETT21000001</td>\n",
       "      <td>DESIGN, DEVELOPMENT, CUSTOMIZATION, DELIVERY, ...</td>\n",
       "      <td>Accounting And Corporate Regulatory Authority</td>\n",
       "      <td>6/9/2021</td>\n",
       "      <td>Awarded to Suppliers</td>\n",
       "      <td>ALPHA ZETTA PTE. LTD.</td>\n",
       "      <td>2321600.0</td>\n",
       "      <td>design development customization delivery inst...</td>\n",
       "      <td>Other</td>\n",
       "      <td>Other</td>\n",
       "    </tr>\n",
       "  </tbody>\n",
       "</table>\n",
       "</div>"
      ],
      "text/plain": [
       "           tender_no                                 tender_description  \\\n",
       "0  ACR000ETT20300002  INVITATION TO TENDER FOR THE PROVISION OF SERV...   \n",
       "1  ACR000ETT20300002  INVITATION TO TENDER FOR THE PROVISION OF SERV...   \n",
       "2  ACR000ETT20300003  PROVISION OF AN IT SECURITY CONTROLS AND OPERA...   \n",
       "3  ACR000ETT20300004  CONCEPTUALIZATION, DESIGN, BUILD, SET-UP OF NE...   \n",
       "4  ACR000ETT21000001  DESIGN, DEVELOPMENT, CUSTOMIZATION, DELIVERY, ...   \n",
       "\n",
       "                                          agency  award_date  \\\n",
       "0  Accounting And Corporate Regulatory Authority  10/11/2020   \n",
       "1  Accounting And Corporate Regulatory Authority  10/11/2020   \n",
       "2  Accounting And Corporate Regulatory Authority   9/12/2020   \n",
       "3  Accounting And Corporate Regulatory Authority    9/3/2021   \n",
       "4  Accounting And Corporate Regulatory Authority    6/9/2021   \n",
       "\n",
       "   tender_detail_status                                      supplier_name  \\\n",
       "0      Awarded by Items  DELOITTE & TOUCHE ENTERPRISE RISK SERVICES PTE...   \n",
       "1      Awarded by Items                            KPMG SERVICES PTE. LTD.   \n",
       "2  Awarded to Suppliers                   ERNST & YOUNG ADVISORY PTE. LTD.   \n",
       "3  Awarded to Suppliers                  D' PERCEPTION SINGAPORE PTE. LTD.   \n",
       "4  Awarded to Suppliers                              ALPHA ZETTA PTE. LTD.   \n",
       "\n",
       "   awarded_amt                                cleaned_description Category  \\\n",
       "0     285000.0  invitation to tender for the provision of serv...    Other   \n",
       "1      90000.0  invitation to tender for the provision of serv...    Other   \n",
       "2     182400.0  provision of an it security controls and opera...    Other   \n",
       "3    3071056.4  conceptualization design build set up of new o...    Other   \n",
       "4    2321600.0  design development customization delivery inst...    Other   \n",
       "\n",
       "  Predicted_Category  \n",
       "0              Other  \n",
       "1              Other  \n",
       "2              Other  \n",
       "3              Other  \n",
       "4              Other  "
      ]
     },
     "execution_count": 14,
     "metadata": {},
     "output_type": "execute_result"
    }
   ],
   "source": [
    "# Predict categories for the entire dataset\n",
    "data_tfidf = vectorizer.transform(data['cleaned_description'])\n",
    "data['Predicted_Category'] = model.predict(data_tfidf)\n",
    "\n",
    "# Display the updated dataset\n",
    "data.head()"
   ]
  },
  {
   "cell_type": "code",
   "execution_count": 16,
   "id": "e087f43d-e9e5-48bc-b239-426a4ed12657",
   "metadata": {},
   "outputs": [
    {
     "data": {
      "text/html": [
       "<div>\n",
       "<style scoped>\n",
       "    .dataframe tbody tr th:only-of-type {\n",
       "        vertical-align: middle;\n",
       "    }\n",
       "\n",
       "    .dataframe tbody tr th {\n",
       "        vertical-align: top;\n",
       "    }\n",
       "\n",
       "    .dataframe thead th {\n",
       "        text-align: right;\n",
       "    }\n",
       "</style>\n",
       "<table border=\"1\" class=\"dataframe\">\n",
       "  <thead>\n",
       "    <tr style=\"text-align: right;\">\n",
       "      <th></th>\n",
       "      <th>tender_no</th>\n",
       "      <th>tender_description</th>\n",
       "      <th>agency</th>\n",
       "      <th>award_date</th>\n",
       "      <th>tender_detail_status</th>\n",
       "      <th>supplier_name</th>\n",
       "      <th>awarded_amt</th>\n",
       "      <th>cleaned_description</th>\n",
       "      <th>Category</th>\n",
       "      <th>Predicted_Category</th>\n",
       "    </tr>\n",
       "  </thead>\n",
       "  <tbody>\n",
       "    <tr>\n",
       "      <th>79</th>\n",
       "      <td>BCA000ETT20300019</td>\n",
       "      <td>PROVISION OF LEGAL SERVICES TO THE BUILDING AN...</td>\n",
       "      <td>Building and Construction Authority</td>\n",
       "      <td>17/9/2020</td>\n",
       "      <td>Awarded by Items</td>\n",
       "      <td>ADVOCATUS LAW LLP</td>\n",
       "      <td>1010.0</td>\n",
       "      <td>provision of legal services to the building an...</td>\n",
       "      <td>Construction</td>\n",
       "      <td>Construction</td>\n",
       "    </tr>\n",
       "    <tr>\n",
       "      <th>80</th>\n",
       "      <td>BCA000ETT20300019</td>\n",
       "      <td>PROVISION OF LEGAL SERVICES TO THE BUILDING AN...</td>\n",
       "      <td>Building and Construction Authority</td>\n",
       "      <td>17/9/2020</td>\n",
       "      <td>Awarded by Items</td>\n",
       "      <td>BIRD &amp; BIRD ATMD LLP</td>\n",
       "      <td>4000.0</td>\n",
       "      <td>provision of legal services to the building an...</td>\n",
       "      <td>Construction</td>\n",
       "      <td>Construction</td>\n",
       "    </tr>\n",
       "    <tr>\n",
       "      <th>81</th>\n",
       "      <td>BCA000ETT20300019</td>\n",
       "      <td>PROVISION OF LEGAL SERVICES TO THE BUILDING AN...</td>\n",
       "      <td>Building and Construction Authority</td>\n",
       "      <td>17/9/2020</td>\n",
       "      <td>Awarded by Items</td>\n",
       "      <td>CENTRAL CHAMBERS LAW CORPORATION</td>\n",
       "      <td>1890.0</td>\n",
       "      <td>provision of legal services to the building an...</td>\n",
       "      <td>Construction</td>\n",
       "      <td>Construction</td>\n",
       "    </tr>\n",
       "    <tr>\n",
       "      <th>82</th>\n",
       "      <td>BCA000ETT20300019</td>\n",
       "      <td>PROVISION OF LEGAL SERVICES TO THE BUILDING AN...</td>\n",
       "      <td>Building and Construction Authority</td>\n",
       "      <td>17/9/2020</td>\n",
       "      <td>Awarded by Items</td>\n",
       "      <td>DENTONS RODYK &amp; DAVIDSON LLP</td>\n",
       "      <td>4910.0</td>\n",
       "      <td>provision of legal services to the building an...</td>\n",
       "      <td>Construction</td>\n",
       "      <td>Construction</td>\n",
       "    </tr>\n",
       "    <tr>\n",
       "      <th>83</th>\n",
       "      <td>BCA000ETT20300019</td>\n",
       "      <td>PROVISION OF LEGAL SERVICES TO THE BUILDING AN...</td>\n",
       "      <td>Building and Construction Authority</td>\n",
       "      <td>17/9/2020</td>\n",
       "      <td>Awarded by Items</td>\n",
       "      <td>DONALDSON &amp; BURKINSHAW LLP</td>\n",
       "      <td>2000.0</td>\n",
       "      <td>provision of legal services to the building an...</td>\n",
       "      <td>Construction</td>\n",
       "      <td>Construction</td>\n",
       "    </tr>\n",
       "  </tbody>\n",
       "</table>\n",
       "</div>"
      ],
      "text/plain": [
       "            tender_no                                 tender_description  \\\n",
       "79  BCA000ETT20300019  PROVISION OF LEGAL SERVICES TO THE BUILDING AN...   \n",
       "80  BCA000ETT20300019  PROVISION OF LEGAL SERVICES TO THE BUILDING AN...   \n",
       "81  BCA000ETT20300019  PROVISION OF LEGAL SERVICES TO THE BUILDING AN...   \n",
       "82  BCA000ETT20300019  PROVISION OF LEGAL SERVICES TO THE BUILDING AN...   \n",
       "83  BCA000ETT20300019  PROVISION OF LEGAL SERVICES TO THE BUILDING AN...   \n",
       "\n",
       "                                 agency award_date tender_detail_status  \\\n",
       "79  Building and Construction Authority  17/9/2020     Awarded by Items   \n",
       "80  Building and Construction Authority  17/9/2020     Awarded by Items   \n",
       "81  Building and Construction Authority  17/9/2020     Awarded by Items   \n",
       "82  Building and Construction Authority  17/9/2020     Awarded by Items   \n",
       "83  Building and Construction Authority  17/9/2020     Awarded by Items   \n",
       "\n",
       "                       supplier_name  awarded_amt  \\\n",
       "79                 ADVOCATUS LAW LLP       1010.0   \n",
       "80              BIRD & BIRD ATMD LLP       4000.0   \n",
       "81  CENTRAL CHAMBERS LAW CORPORATION       1890.0   \n",
       "82      DENTONS RODYK & DAVIDSON LLP       4910.0   \n",
       "83        DONALDSON & BURKINSHAW LLP       2000.0   \n",
       "\n",
       "                                  cleaned_description      Category  \\\n",
       "79  provision of legal services to the building an...  Construction   \n",
       "80  provision of legal services to the building an...  Construction   \n",
       "81  provision of legal services to the building an...  Construction   \n",
       "82  provision of legal services to the building an...  Construction   \n",
       "83  provision of legal services to the building an...  Construction   \n",
       "\n",
       "   Predicted_Category  \n",
       "79       Construction  \n",
       "80       Construction  \n",
       "81       Construction  \n",
       "82       Construction  \n",
       "83       Construction  "
      ]
     },
     "execution_count": 16,
     "metadata": {},
     "output_type": "execute_result"
    }
   ],
   "source": [
    "# filter non-other predicted categories, we filter out the rows where the predicted category is \"Other\"\n",
    "non_other_data = data[data['Predicted_Category'] != 'Other']\n",
    "# Display the filtered dataset\n",
    "non_other_data.head()"
   ]
  },
  {
   "cell_type": "code",
   "execution_count": 18,
   "id": "bc3cafbf-dab2-4be1-a627-dce0379acce1",
   "metadata": {},
   "outputs": [],
   "source": [
    "non_other_data.to_csv('predictedcategory.csv', index=False)"
   ]
  },
  {
   "cell_type": "code",
   "execution_count": null,
   "id": "c7249276-4c42-4f36-8a33-efbd3cf2cbcc",
   "metadata": {},
   "outputs": [],
   "source": []
  },
  {
   "cell_type": "markdown",
   "id": "4b2b9f7a-78ab-47e4-b2f3-d05688999271",
   "metadata": {},
   "source": [
    "# Reference"
   ]
  },
  {
   "cell_type": "code",
   "execution_count": 46,
   "id": "9d80f15b-7cc5-4759-bd80-1d4d8dfa8a10",
   "metadata": {},
   "outputs": [],
   "source": [
    "\n",
    "agency_map = {\n",
    "    # Ministries\n",
    "    \"Ministry Of Defence\": \"MINDEF\",\n",
    "    \"Ministry Of Education\": \"MOE\",\n",
    "    \"Ministry Of Finance\": \"MOF\",\n",
    "    \"Ministry Of Foreign Affairs\": \"MFA\",\n",
    "    \"Ministry Of Health\": \"MOH\",\n",
    "    \"Ministry Of Home Affairs\": \"MHA\",\n",
    "    \"Ministry Of Law\": \"MinLaw\",\n",
    "    \"Ministry Of Manpower\": \"MOM\",\n",
    "    \"Ministry Of National Development\": \"MND\",\n",
    "    \"Ministry Of Social And Family Development\": \"MSF\",\n",
    "    \"Ministry Of Sustainability And The Environment\": \"MSE\",\n",
    "    \"Ministry Of Trade & Industry\": \"MTI\",\n",
    "    \"Ministry Of Transport\": \"MOT\",\n",
    "    \"Ministry Of Communications And Information\": \"MCI\",\n",
    "\n",
    "    # Statutory board\n",
    "    \"Accounting And Corporate Regulatory Authority\": \"ACRA\",\n",
    "    \"Building And Construction Authority\": \"BCA\",\n",
    "    \"Board Of Architects\": \"BOA\",\n",
    "    \"Civil Aviation Authority Of Singapore\": \"CAAS\",\n",
    "    \"Competition And Consumer Commission Of Singapore (Cccs)\": \"CCCS\",\n",
    "    \"Council For Estate Agencies\": \"CEA\",\n",
    "    \"Defence Science And Technology Agency\": \"DSTA\",\n",
    "    \"Economic Development Board\": \"EDB\",\n",
    "    \"Energy Market Authority Of Singapore\": \"EMA\",\n",
    "    \"Enterprise Singapore\": \"ESG\",\n",
    "    \"Gambling Regulatory Authority Of Singapore (Gra)\": \"GRA\",\n",
    "    \"Health Promotion Board\": \"HPB\",\n",
    "    \"Health Sciences Authority\": \"HSA\",\n",
    "    \"Home Team Science And Technology Agency\": \"HTX\",\n",
    "    \"Housing And Development Board\": \"HDB\",\n",
    "    \"Infocomm Media Development Authority\": \"IMDA\",\n",
    "    \"Inland Revenue Authority Of Singapore\": \"IRAS\",\n",
    "    \"Intellectual Property Office Of Singapore\": \"IPOS\",\n",
    "    \"Jurong Town Corporation\": \"JTC\",\n",
    "    \"Land Transport Authority\": \"LTA\",\n",
    "    \"Majlis Ugama Islam Singapura\": \"MUIS\",\n",
    "    \"Maritime And Port Authority Of Singapore\": \"MPA\",\n",
    "    \"National Environment Agency\": \"NEA\",\n",
    "    \"National Heritage Board\": \"NHB\",\n",
    "    \"National Library Board\": \"NLB\",\n",
    "    \"National Parks Board\": \"NPARKS\",\n",
    "    \"People'S Association\": \"PA\",\n",
    "    \"Professional Engineers Board\": \"PEB\",\n",
    "    \"Public Utilities Board\": \"PUB\",\n",
    "    \"Public Transport Council\": \"PTC\",\n",
    "    \"Science Centre Board\": \"Science Centre\",   # <- not a strict acronym\n",
    "    \"Sentosa Development Corporation\": \"SDC\",\n",
    "    \"Singapore Civil Defence Force\": \"SCDF\",\n",
    "    \"Singapore Examinations And Assessment Board\": \"SEAB\",\n",
    "    \"Singapore Food Agency\": \"SFA\",\n",
    "    \"Singapore Land Authority\": \"SLA\",\n",
    "    \"Singapore Labour Foundation\": \"SLF\",\n",
    "    \"Singapore Medical Council\": \"SMC\",\n",
    "    \"Singapore Nursing Board\": \"SNB\",\n",
    "    \"Singapore Police Force\": \"SPF\",\n",
    "    \"Singapore Prison Service\": \"SPS\",\n",
    "    \"Singapore Tourism Board\": \"STB\",\n",
    "    \"Skillsfuture Singapore\": \"SSG\",\n",
    "    \"Urban Redevelopment Authority\": \"URA\",\n",
    "    \"Workforce Singapore\": \"WSG\",\n",
    "    \"Yellow Ribbon Singapore\": \"YRSG\",\n",
    "    \"Civil Service College\": \"CSC\",\n",
    "    \"Iseas - Yusof Ishak Institute\": \"ISEAS\",\n",
    "\n",
    "    #Councils\n",
    "    \"National Arts Council\": \"NAC\",\n",
    "    \"National Council Of Social Service\": \"NCSS\",\n",
    "    \"National Youth Council\": \"NYC\",\n",
    "\n",
    "    #IHLs\n",
    "    \"Institute Of Technical Education\": \"ITE\",\n",
    "    \"Temasek Polytechnic\": \"TP\",\n",
    "    \"Nanyang Polytechnic\": \"NYP\",\n",
    "    \"Ngee Ann Polytechnic\": \"NP\",\n",
    "    \"Republic Polytechnic\": \"RP\",\n",
    "    \"Singapore Polytechnic\": \"SP\",\n",
    "    \"National University Of Singapore\": \"NUS\",\n",
    "    \"Nanyang Technological University\": \"NTU\",\n",
    "    \"Singapore Management University\": \"SMU\",\n",
    "    \"Singapore Institute Of Technology\": \"SIT\",\n",
    "    \"Singapore University Of Technology And Design\": \"SUTD\"\n",
    "}"
   ]
  },
  {
   "cell_type": "code",
   "execution_count": null,
   "id": "693fe889-a803-4001-af76-5da076d68378",
   "metadata": {},
   "outputs": [],
   "source": []
  }
 ],
 "metadata": {
  "kernelspec": {
   "display_name": "Python [conda env:base] *",
   "language": "python",
   "name": "conda-base-py"
  },
  "language_info": {
   "codemirror_mode": {
    "name": "ipython",
    "version": 3
   },
   "file_extension": ".py",
   "mimetype": "text/x-python",
   "name": "python",
   "nbconvert_exporter": "python",
   "pygments_lexer": "ipython3",
   "version": "3.13.5"
  }
 },
 "nbformat": 4,
 "nbformat_minor": 5
}
